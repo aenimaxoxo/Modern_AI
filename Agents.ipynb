{
 "cells": [
  {
   "cell_type": "markdown",
   "metadata": {},
   "source": [
    "## Agents"
   ]
  },
  {
   "cell_type": "code",
   "execution_count": 2,
   "metadata": {
    "scrolled": true
   },
   "outputs": [
    {
     "ename": "ModuleNotFoundError",
     "evalue": "No module named 'utils'",
     "output_type": "error",
     "traceback": [
      "\u001b[0;31m---------------------------------------------------------------------------\u001b[0m",
      "\u001b[0;31mModuleNotFoundError\u001b[0m                       Traceback (most recent call last)",
      "\u001b[0;32m<ipython-input-2-742ba16c3ab1>\u001b[0m in \u001b[0;36m<module>\u001b[0;34m()\u001b[0m\n\u001b[0;32m----> 1\u001b[0;31m \u001b[0;32mfrom\u001b[0m \u001b[0magents\u001b[0m \u001b[0;32mimport\u001b[0m \u001b[0;34m*\u001b[0m\u001b[0;34m\u001b[0m\u001b[0m\n\u001b[0m",
      "\u001b[0;32m~/Desktop/SS/Artificial_Intelligence/agents.py\u001b[0m in \u001b[0;36m<module>\u001b[0;34m()\u001b[0m\n\u001b[1;32m     36\u001b[0m \u001b[0;31m# Speed control in GUI does not have any effect -- fix it.\u001b[0m\u001b[0;34m\u001b[0m\u001b[0;34m\u001b[0m\u001b[0m\n\u001b[1;32m     37\u001b[0m \u001b[0;34m\u001b[0m\u001b[0m\n\u001b[0;32m---> 38\u001b[0;31m \u001b[0;32mfrom\u001b[0m \u001b[0mutils\u001b[0m \u001b[0;32mimport\u001b[0m \u001b[0mdistance_squared\u001b[0m\u001b[0;34m,\u001b[0m \u001b[0mturn_heading\u001b[0m\u001b[0;34m\u001b[0m\u001b[0m\n\u001b[0m\u001b[1;32m     39\u001b[0m \u001b[0;32mfrom\u001b[0m \u001b[0mstatistics\u001b[0m \u001b[0;32mimport\u001b[0m \u001b[0mmean\u001b[0m\u001b[0;34m\u001b[0m\u001b[0m\n\u001b[1;32m     40\u001b[0m \u001b[0;34m\u001b[0m\u001b[0m\n",
      "\u001b[0;31mModuleNotFoundError\u001b[0m: No module named 'utils'"
     ]
    }
   ],
   "source": [
    "from agents import *"
   ]
  },
  {
   "cell_type": "code",
   "execution_count": 6,
   "metadata": {},
   "outputs": [],
   "source": [
    "# create first agent, blind dog\n",
    "class BlindDog(Agent): \n",
    "    def eat(self, thing):\n",
    "        print(\"Dog: Ate food at {}.\".format(self.location))\n",
    "    \n",
    "    def drink(self, thing):\n",
    "        print(\"Dog: Drank water at {}.\".format(self.location))"
   ]
  },
  {
   "cell_type": "code",
   "execution_count": 10,
   "metadata": {},
   "outputs": [
    {
     "name": "stdout",
     "output_type": "stream",
     "text": [
      "Can't find a valid program for BlindDog, falling back to default.\n"
     ]
    }
   ],
   "source": [
    "dog = BlindDog()"
   ]
  },
  {
   "cell_type": "markdown",
   "metadata": {},
   "source": [
    "We have created a dog agent who can only feel what is in his location, eat and drink. "
   ]
  },
  {
   "cell_type": "code",
   "execution_count": 9,
   "metadata": {},
   "outputs": [
    {
     "name": "stdout",
     "output_type": "stream",
     "text": [
      "True\n"
     ]
    }
   ],
   "source": [
    "print(dog.alive)"
   ]
  },
  {
   "cell_type": "markdown",
   "metadata": {},
   "source": [
    "## Environment\n",
    "\n",
    "A park is an example of an environment because our dog can perceive and act upon it. The environment class in agents.py is an abstract class, so we will have to create our own subclass from it before we can use it. \n",
    "\n",
    "The abstract class must contain the folowing methods: \n",
    "    - percept(self, agent) - returns what the agent perceives \n",
    "    - execute_action(self, agent, action) - changes the state of the environment based on an agents actions"
   ]
  },
  {
   "cell_type": "code",
   "execution_count": 27,
   "metadata": {},
   "outputs": [],
   "source": [
    "class Food(Thing): \n",
    "    pass\n",
    "\n",
    "class Water(Thing):\n",
    "    pass\n",
    "\n",
    "class Park(Environment): \n",
    "    def percept(self, agent): \n",
    "        '''pritns & returns a list of things that are in our agents location'''\n",
    "        things = self.list_things_at(agent.location)\n",
    "        return things \n",
    "    \n",
    "    def execute_action(self, agent, action):\n",
    "        '''changes the state of the environment based on what the agent does'''\n",
    "        if action == \"move down\":\n",
    "            print('{} decided to {} at location: {}'.format(str(agent)[1:-1], action, agent.location))\n",
    "            agent.movedown() \n",
    "        elif action == \"eat\":\n",
    "            items = self.list_things_at(agent.location, tclass = Food)\n",
    "            if len(items) != 0:\n",
    "                if agent.eat(items[0]): # have dog eat first item\n",
    "                    print('{} ate {} at location: {}'.format(str(agent)[1:-1], str(items[0])[1:-1], agent.location))\n",
    "                    self.delete_thing(items[0]) # delete it from the park after \n",
    "        elif action == \"drink\":\n",
    "            items = self.list_things_at(agent.location, tclass = Water)\n",
    "            if len(items) != 0:\n",
    "                if agent.drink(items[0]): # have dog eat first item\n",
    "                    print('{} drank {} at location: {}'.format(str(agent)[1:-1], str(items[0])[1:-1], agent.location))\n",
    "                    self.delete_thing(items[0]) # delete it from the park after \n",
    "                    \n",
    "    def is_done(self):\n",
    "        '''By default, we are done when we cant find a live agent. To prevent destroying our dog, we will stop before there is no food or water'''\n",
    "        no_edibles = not any(isinstance(thing, Food) or isinstance(thing, Water) for thing in self.things)\n",
    "        dead_agents = not any(agent.is_alive() for agent in self.agents) \n",
    "        return dead_agents or no_edibles\n"
   ]
  },
  {
   "cell_type": "markdown",
   "metadata": {},
   "source": [
    "## Program\n",
    "\n",
    "Now that we have a park class, we need to implement a program module for our dog. A program controls how the dog acts upon its environment. \n",
    "\n",
    "|Percept: |Feel Food|Feel Water|Feel Nothing|\n",
    "| --- | --- | --- | --- |\n",
    "|Action: |eat |drink |move down |"
   ]
  },
  {
   "cell_type": "code",
   "execution_count": 28,
   "metadata": {},
   "outputs": [],
   "source": [
    "class BlindDog(Agent): \n",
    "    location = 1\n",
    "    \n",
    "    def movedown(self):\n",
    "        self.location += 1\n",
    "    \n",
    "    def eat(self, thing):\n",
    "        '''returns True upon success or False otherwise'''\n",
    "        if isinstance(thing, Food):\n",
    "            return True\n",
    "        else:\n",
    "            return False\n",
    "    \n",
    "    def drink(self, thing):\n",
    "        '''returns True upon success or False otherwise'''\n",
    "        if isinstance(thing, Water):\n",
    "            return True\n",
    "        else: \n",
    "            return False\n",
    "        \n",
    "def program(percepts):\n",
    "    '''Returns an action based on its percepts'''\n",
    "    for p in percepts:\n",
    "        if isinstance(p, Food):\n",
    "            return 'eat'\n",
    "        elif isinstance(p, Water):\n",
    "            return 'drink'\n",
    "    return 'move down'"
   ]
  },
  {
   "cell_type": "markdown",
   "metadata": {},
   "source": [
    "Now lets run our simulation by creating a park with some food, water, and our dog"
   ]
  },
  {
   "cell_type": "code",
   "execution_count": 30,
   "metadata": {},
   "outputs": [
    {
     "name": "stdout",
     "output_type": "stream",
     "text": [
      "BlindDog decided to move down at location: 1\n",
      "BlindDog decided to move down at location: 2\n",
      "BlindDog decided to move down at location: 3\n",
      "BlindDog decided to move down at location: 4\n",
      "BlindDog ate Food at location: 5\n"
     ]
    }
   ],
   "source": [
    "park = Park() \n",
    "dog = BlindDog(program)\n",
    "dogfood = Food() \n",
    "water = Water() \n",
    "park.add_thing(dog, 1)\n",
    "park.add_thing(dogfood, 5)\n",
    "park.add_thing(water, 7)\n",
    "\n",
    "park.run(5)"
   ]
  },
  {
   "cell_type": "code",
   "execution_count": 32,
   "metadata": {},
   "outputs": [],
   "source": [
    "park.run(5)"
   ]
  },
  {
   "cell_type": "code",
   "execution_count": 34,
   "metadata": {},
   "outputs": [
    {
     "name": "stdout",
     "output_type": "stream",
     "text": [
      "BlindDog drank Water at location: 15\n"
     ]
    }
   ],
   "source": [
    "park.add_thing(water, 15)\n",
    "park.run(10)"
   ]
  },
  {
   "cell_type": "markdown",
   "metadata": {},
   "source": [
    "## 2D Environment\n",
    "\n",
    "We have seen how to implement an agent, its program and its environment. Lets try a 2-Dimensional environment now with multiple agents. \n",
    "\n",
    "To make our park 2D, we need to make it a subclass of XYEnvironment instead of Environment. Our park is indexed in the 4th quadrant of the XY plane. "
   ]
  },
  {
   "cell_type": "code",
   "execution_count": 55,
   "metadata": {},
   "outputs": [],
   "source": [
    "class Park2D(XYEnvironment):\n",
    "    def percept(self, agent): \n",
    "        '''prints & returns a list of things that are in our agents location'''\n",
    "        things = self.list_things_at(agent.location)\n",
    "        return things \n",
    "    \n",
    "    def execute_action(self, agent, action):\n",
    "        '''changes the state of the environment based on what the agent does'''\n",
    "        if action == \"move down\":\n",
    "            print('{} decided to {} at location: {}'.format(str(agent)[1:-1], action, agent.location))\n",
    "            agent.movedown() \n",
    "        elif action == \"eat\":\n",
    "            items = self.list_things_at(agent.location, tclass = Food)\n",
    "            if len(items) != 0:\n",
    "                if agent.eat(items[0]): # have dog eat first item\n",
    "                    print('{} ate {} at location: {}'.format(str(agent)[1:-1], str(items[0])[1:-1], agent.location))\n",
    "                    self.delete_thing(items[0]) # delete it from the park after \n",
    "        elif action == \"drink\":\n",
    "            items = self.list_things_at(agent.location, tclass = Water)\n",
    "            if len(items) != 0:\n",
    "                if agent.drink(items[0]): # have dog eat first item\n",
    "                    print('{} drank {} at location: {}'.format(str(agent)[1:-1], str(items[0])[1:-1], agent.location))\n",
    "                    self.delete_thing(items[0]) # delete it from the park after \n",
    "                    \n",
    "    def is_done(self):\n",
    "        '''By default, we are done when we cant find a live agent. To prevent destroying our dog, we will stop before there is no food or water'''\n",
    "        no_edibles = not any(isinstance(thing, Food) or isinstance(thing, Water) for thing in self.things)\n",
    "        dead_agents = not any(agent.is_alive() for agent in self.agents) \n",
    "        return dead_agents or no_edibles\n",
    "    "
   ]
  },
  {
   "cell_type": "code",
   "execution_count": 56,
   "metadata": {},
   "outputs": [],
   "source": [
    "# 2D blind dog\n",
    "class BlindDog(Agent):\n",
    "    # change location to a 2d value \n",
    "    location = [0, 1]\n",
    "    # variable to store the direction our dog is facing \n",
    "    direction = Direction(\"down\")\n",
    "    \n",
    "    def movedown(self): \n",
    "        self.location[1] += 1\n",
    "        \n",
    "    def eat(self, thing): \n",
    "        '''returns true upon success or false otherwise'''\n",
    "        if isinstance(thing, Food): \n",
    "            return True\n",
    "        else:\n",
    "            return False\n",
    "    \n",
    "    def drink(self, thing):\n",
    "        '''returns true upon success or false otherwise'''\n",
    "        if isinstance(thing, Water): \n",
    "            return True\n",
    "        else: \n",
    "            return False \n",
    "\n",
    "def program(percepts):\n",
    "    '''returns an action based on its percepts'''\n",
    "    for p in percepts:\n",
    "        if isinstance(p, Food): \n",
    "            return 'eat'\n",
    "        elif isinstance(p, Water):\n",
    "            return 'drink'\n",
    "    return 'move down'"
   ]
  },
  {
   "cell_type": "markdown",
   "metadata": {},
   "source": [
    "Now lets test this new park with our same dog, food, and water "
   ]
  },
  {
   "cell_type": "code",
   "execution_count": 60,
   "metadata": {
    "scrolled": true
   },
   "outputs": [
    {
     "name": "stdout",
     "output_type": "stream",
     "text": [
      "BlindDog decided to move down at location: [0, 1]\n",
      "BlindDog decided to move down at location: [0, 2]\n",
      "BlindDog decided to move down at location: [0, 3]\n",
      "BlindDog decided to move down at location: [0, 4]\n",
      "BlindDog ate Food at location: [0, 5]\n",
      "BlindDog decided to move down at location: [0, 5]\n",
      "BlindDog decided to move down at location: [0, 6]\n",
      "BlindDog drank Water at location: [0, 7]\n",
      "BlindDog decided to move down at location: [0, 7]\n",
      "BlindDog decided to move down at location: [0, 8]\n",
      "BlindDog decided to move down at location: [0, 9]\n",
      "BlindDog decided to move down at location: [0, 10]\n",
      "BlindDog decided to move down at location: [0, 11]\n",
      "BlindDog decided to move down at location: [0, 12]\n",
      "BlindDog decided to move down at location: [0, 13]\n",
      "BlindDog decided to move down at location: [0, 14]\n",
      "BlindDog drank Water at location: [0, 15]\n"
     ]
    }
   ],
   "source": [
    "# park width set to 5, height set to 20\n",
    "park = Park2D(5, 20)\n",
    "\n",
    "dog = BlindDog(program)\n",
    "dogfood = Food()\n",
    "water = Water() \n",
    "morewater = Water()\n",
    "\n",
    "park.add_thing(dog, [0, 1])\n",
    "park.add_thing(dogfood, [0, 5])\n",
    "park.add_thing(water, [0, 7])\n",
    "park.add_thing(morewater, [0, 15])\n",
    "\n",
    "park.run(20)"
   ]
  },
  {
   "cell_type": "markdown",
   "metadata": {},
   "source": [
    "## Program - Energetic Blind Dog \n",
    "\n",
    "This works, but doesn't make use of the 2 dimensional grid. We want to make our dog turn or move forward instead of always down. If he reaches the edge of the park we want him to change direction explicitly by turning. Since the dog is blind, it won't know which way to turn and must move arbitrarily. \n",
    "\n",
    "|Percept: |Feel Food |Feel Water |Feel Nothing |\n",
    "|---|---|---|---|\n",
    "|Action: |eat |drink | if at edge (1/2 RL) else LRF(1/4, 1/4, 1/2)\n"
   ]
  },
  {
   "cell_type": "code",
   "execution_count": 91,
   "metadata": {},
   "outputs": [],
   "source": [
    "from random import choice\n",
    "\n",
    "# global variable to remember to turn if our dog hits the boundary \n",
    "turn = False \n",
    "\n",
    "class EnergeticBlindDog(Agent): \n",
    "    location = [0, 1]\n",
    "    direction = Direction(\"down\")\n",
    "    \n",
    "    def moveforward(self, success = True): \n",
    "        '''move forward possible only if success (valid destination location)'''\n",
    "        global turn \n",
    "        if not success:\n",
    "            # if edge has been reached \n",
    "            turn = True\n",
    "            return\n",
    "        if self.direction.direction == Direction.R: \n",
    "            self.location[0] += 1\n",
    "        elif self.direction.direction == Direction.L: \n",
    "            self.location[0] -= 1\n",
    "        elif self.direction.direction == Direction.D: \n",
    "            self.location[1] += 1\n",
    "        elif self.direction.direction == Direction.U: \n",
    "            self.location[1] -= 1\n",
    "    def turn(self, d):\n",
    "        self.direction = self.direction + d\n",
    "    \n",
    "    def eat(self, thing): \n",
    "        '''returns true upon success or false otherwise'''\n",
    "        if isinstance(thing, Food): \n",
    "            return True\n",
    "        else:\n",
    "            return False\n",
    "    \n",
    "    def drink(self, thing):\n",
    "        '''returns true upon success or false otherwise'''\n",
    "        if isinstance(thing, Water):\n",
    "            return True\n",
    "        else: \n",
    "            return False \n",
    "\n",
    "def program(percepts): \n",
    "    '''returns an action based on its percepts'''\n",
    "    global turn\n",
    "    for p in percepts: # first eat or drink\n",
    "        if isinstance(p, Food):\n",
    "            return 'eat'\n",
    "        elif isinstance(p, Water):\n",
    "            return 'drink'\n",
    "    if turn: # recall if at edge and had to turn \n",
    "        turn = False \n",
    "        choice = random.choice((1, 2));\n",
    "    else: \n",
    "        choice = random.choice((1, 2, 3, 4)) # 1-R, 2-L, 3,4-F\n",
    "    if choice == 1:\n",
    "        return 'turnright'\n",
    "    if choice == 2: \n",
    "        return 'turnleft'\n",
    "    else:\n",
    "        return 'moveforward'"
   ]
  },
  {
   "cell_type": "markdown",
   "metadata": {},
   "source": [
    "We also need to modify our park accordingly in order to support the new actions our dog wishes to execute. We also need to prevent the dog from moving beyond the park boundary."
   ]
  },
  {
   "cell_type": "code",
   "execution_count": 92,
   "metadata": {},
   "outputs": [],
   "source": [
    "class Park2D(XYEnvironment): \n",
    "    def percept(self, agent): \n",
    "        '''print & return a list of things that are in our agents location'''\n",
    "        things = self.list_things_at(agent.location)\n",
    "        return things \n",
    "    \n",
    "    def execute_action(self, agent, action): \n",
    "        '''changes the state of the environment based on what the agent does'''\n",
    "        if action == 'turnright': \n",
    "            print('{} decided to {} at location: {}'.format(str(agent)[1:-1], action, agent.location))\n",
    "            agent.turn(Direction.R)\n",
    "        elif action == 'turnleft': \n",
    "            print('{} decided to {} at location: {}'.format(str(agent)[1:-1], action, agent.location))\n",
    "            agent.turn(Direction.L)\n",
    "        elif action == 'moveforward': \n",
    "            # find target location\n",
    "            loc = copy.deepcopy(agent.location)\n",
    "            if agent.direction.direction == Direction.R:\n",
    "                loc[0] += 1\n",
    "            elif agent.direction.direction == Direction.L:\n",
    "                loc[0] -= 1\n",
    "            elif agent.direction.direction == Direction.D:\n",
    "                loc[1] += 1\n",
    "            elif agent.direction.direction == Direction.U:\n",
    "                loc[1] -= 1\n",
    "            # move only if the target is a valid location \n",
    "            if self.is_inbounds(loc):\n",
    "                print('{} decided to move {}wards at location: {}'.format(str(agent)[1:-1], agent.direction.direction, agent.location))\n",
    "                agent.moveforward()\n",
    "            else: \n",
    "                print('{} decided to move {}wards at location: {}, but couldn\\'t'.format(str(agent)[1:-1], agent.direction.direction, agent.location))\n",
    "                agent.moveforward(False)\n",
    "        elif action == 'eat': \n",
    "            items = self.list_things_at(agent.location, tclass = Food)\n",
    "            if len(items) != 0: \n",
    "                if agent.eat(items[0]): \n",
    "                    print('{} ate {} at location: {}'.format(str(agent)[1:-1], str(items[0])[1:-1], agent.location))\n",
    "                    self.delete_thing(items[0])\n",
    "        elif action == 'drink': \n",
    "            items = self.list_things_at(agent.location, tclass = Water)\n",
    "            if len(items) != 0:\n",
    "                if agent.drink(items[0]): \n",
    "                    print('{} drank {} at location: {}'.format(str(agent)[1:-1], str(items[0])[1:-1], agent.location))\n",
    "                    self.delete_thing(items[0])\n",
    "        \n",
    "    def is_done(self): \n",
    "        '''By default, we are done when we cant find a live agent. To prevent the deletion of our dog, we will stop when there is no food or water'''\n",
    "        no_edibles = not(isinstance(thing, Food) or isinstance(thing, Water) for thing in self.things)\n",
    "        dead_agents = not any(agent.is_alive() for agent in self.agents)\n",
    "        return dead_agents or no_edibles"
   ]
  },
  {
   "cell_type": "code",
   "execution_count": 93,
   "metadata": {},
   "outputs": [
    {
     "name": "stdout",
     "output_type": "stream",
     "text": [
      "dog started at [0, 0], facing down. Let's see if he found any food or water!\n",
      "EnergeticBlindDog decided to turnright at location: [0, 0]\n",
      "EnergeticBlindDog decided to move leftwards at location: [0, 0], but couldn't\n",
      "EnergeticBlindDog decided to turnleft at location: [0, 0]\n",
      "EnergeticBlindDog decided to turnleft at location: [0, 0]\n",
      "EnergeticBlindDog decided to move rightwards at location: [0, 0]\n",
      "EnergeticBlindDog decided to move rightwards at location: [1, 0]\n",
      "EnergeticBlindDog decided to turnleft at location: [2, 0]\n",
      "EnergeticBlindDog decided to move upwards at location: [2, 0], but couldn't\n",
      "EnergeticBlindDog decided to turnright at location: [2, 0]\n",
      "EnergeticBlindDog decided to move rightwards at location: [2, 0], but couldn't\n",
      "EnergeticBlindDog decided to turnright at location: [2, 0]\n",
      "EnergeticBlindDog decided to move downwards at location: [2, 0]\n",
      "EnergeticBlindDog drank Water at location: [2, 1]\n",
      "EnergeticBlindDog decided to move downwards at location: [2, 1]\n",
      "EnergeticBlindDog decided to turnleft at location: [2, 2]\n",
      "EnergeticBlindDog decided to turnright at location: [2, 2]\n",
      "EnergeticBlindDog decided to move downwards at location: [2, 2], but couldn't\n",
      "EnergeticBlindDog decided to turnleft at location: [2, 2]\n",
      "EnergeticBlindDog decided to move rightwards at location: [2, 2], but couldn't\n",
      "EnergeticBlindDog decided to turnright at location: [2, 2]\n"
     ]
    }
   ],
   "source": [
    "park = Park2D(3, 3)\n",
    "dog = EnergeticBlindDog(program)\n",
    "dogfood = Food()\n",
    "water = Water() \n",
    "morewater = Water() \n",
    "\n",
    "park.add_thing(dog, [0, 0])\n",
    "park.add_thing(dogfood, [1, 2])\n",
    "park.add_thing(water, [2, 1])\n",
    "park.add_thing(morewater, [0, 2])\n",
    "\n",
    "print(\"dog started at [0, 0], facing down. Let's see if he found any food or water!\")\n",
    "\n",
    "park.run(20)"
   ]
  },
  {
   "cell_type": "markdown",
   "metadata": {},
   "source": [
    "This is good, but it lacks graphics. If we want to visualize our park as it changes, we have to make our park a subclass of GraphicEnvironment instead of XYEnvironment. "
   ]
  },
  {
   "cell_type": "code",
   "execution_count": 94,
   "metadata": {},
   "outputs": [],
   "source": [
    "class GraphicPark(GraphicEnvironment): \n",
    "    def percept(self, agent): \n",
    "        '''print & return a list of things that are in our agents location'''\n",
    "        things = self.list_things_at(agent.location)\n",
    "        return things \n",
    "    \n",
    "    def execute_action(self, agent, action): \n",
    "        '''changes the state of the environment based on what the agent does'''\n",
    "        if action == 'turnright': \n",
    "            print('{} decided to {} at location: {}'.format(str(agent)[1:-1], action, agent.location))\n",
    "            agent.turn(Direction.R)\n",
    "        elif action == 'turnleft': \n",
    "            print('{} decided to {} at location: {}'.format(str(agent)[1:-1], action, agent.location))\n",
    "            agent.turn(Direction.L)\n",
    "        elif action == 'moveforward': \n",
    "            # find target location\n",
    "            loc = copy.deepcopy(agent.location)\n",
    "            if agent.direction.direction == Direction.R:\n",
    "                loc[0] += 1\n",
    "            elif agent.direction.direction == Direction.L:\n",
    "                loc[0] -= 1\n",
    "            elif agent.direction.direction == Direction.D:\n",
    "                loc[1] += 1\n",
    "            elif agent.direction.direction == Direction.U:\n",
    "                loc[1] -= 1\n",
    "            # move only if the target is a valid location \n",
    "            if self.is_inbounds(loc):\n",
    "                print('{} decided to move {}wards at location: {}'.format(str(agent)[1:-1], agent.direction.direction, agent.location))\n",
    "                agent.moveforward()\n",
    "            else: \n",
    "                print('{} decided to move {}wards at location: {}, but couldn\\'t'.format(str(agent)[1:-1], agent.direction.direction, agent.location))\n",
    "                agent.moveforward(False)\n",
    "        elif action == 'eat': \n",
    "            items = self.list_things_at(agent.location, tclass = Food)\n",
    "            if len(items) != 0: \n",
    "                if agent.eat(items[0]): \n",
    "                    print('{} ate {} at location: {}'.format(str(agent)[1:-1], str(items[0])[1:-1], agent.location))\n",
    "                    self.delete_thing(items[0])\n",
    "        elif action == 'drink': \n",
    "            items = self.list_things_at(agent.location, tclass = Water)\n",
    "            if len(items) != 0:\n",
    "                if agent.drink(items[0]): \n",
    "                    print('{} drank {} at location: {}'.format(str(agent)[1:-1], str(items[0])[1:-1], agent.location))\n",
    "                    self.delete_thing(items[0])\n",
    "        \n",
    "    def is_done(self): \n",
    "        '''By default, we are done when we cant find a live agent. To prevent the deletion of our dog, we will stop when there is no food or water'''\n",
    "        no_edibles = not(isinstance(thing, Food) or isinstance(thing, Water) for thing in self.things)\n",
    "        dead_agents = not any(agent.is_alive() for agent in self.agents)\n",
    "        return dead_agents or no_edibles"
   ]
  },
  {
   "cell_type": "markdown",
   "metadata": {},
   "source": [
    "Thats the only change needed. Every time we create a GraphicPark, we need to define the colors of all the things we plan to put into the park. They are defined in RGB digital 8 bit format. "
   ]
  },
  {
   "cell_type": "code",
   "execution_count": 95,
   "metadata": {},
   "outputs": [],
   "source": [
    "from ipythonblocks import BlockGrid\n",
    "from agents import * \n",
    "\n",
    "color = {\"Breeze\": (225, 225, 225),\n",
    "        \"Pit\": (0,0,0),\n",
    "        \"Gold\": (253, 208, 23),\n",
    "        \"Glitter\": (253, 208, 23),\n",
    "        \"Wumpus\": (43, 27, 23),\n",
    "        \"Stench\": (128, 128, 128),\n",
    "        \"Explorer\": (0, 0, 255),\n",
    "        \"Wall\": (44, 53, 57)\n",
    "        }\n",
    "\n",
    "def program(percepts): \n",
    "    '''returns an action based on its percepts'''\n",
    "    print(percepts)\n",
    "    return input() \n",
    "\n",
    "w = WumpusEnvironment(program, 7, 7) \n",
    "grid = BlockGrid(w.width, w.height, fill = (123, 234, 123)) \n",
    "\n",
    "def draw_grid(world): \n",
    "    global grid\n",
    "    grid[:] = (123, 234, 123)\n",
    "    for x in range(0, len(world)):\n",
    "        for y in range(0, len(world[x])):\n",
    "            if len(world[x][y]): \n",
    "                grid[y, x] = color[world[x][y][-1].__class__.__name__]\n",
    "\n",
    "def step(): \n",
    "    global grid, w\n",
    "    draw_grid(w.get_world())\n",
    "    grid.show()\n",
    "    w.step()"
   ]
  },
  {
   "cell_type": "code",
   "execution_count": null,
   "metadata": {},
   "outputs": [],
   "source": [
    "park = GraphicPark(5,5, color={'EnergeticBlindDog': (200,0,0), 'Water': (0, 200, 200), 'Food': (230, 115, 40)})\n",
    "\n",
    "dog = EnergeticBlindDog(program)\n",
    "dogfood = Food()\n",
    "water = Water()\n",
    "morewater = Water()\n",
    "morefood = Food()\n",
    "\n",
    "park.add_thing(dog, [0,0])\n",
    "park.add_thing(dogfood, [1,2])\n",
    "park.add_thing(water, [0,1])\n",
    "park.add_thing(morewater, [2,4])\n",
    "park.add_thing(morefood, [4,3])\n",
    "\n",
    "print(\"dog started at [0,0], facing down. Let's see if he found any food or water!\")\n",
    "\n",
    "park.run(20)"
   ]
  },
  {
   "cell_type": "code",
   "execution_count": null,
   "metadata": {},
   "outputs": [
    {
     "data": {
      "text/html": [
       "<style type=\"text/css\">table.blockgrid {border: none;} .blockgrid tr {border: none;} .blockgrid td {padding: 0px;} #blocks05dfcf09-e549-48ad-ae2e-7076e8c232e0 td {border: 1px solid white;}</style><table id=\"blocks05dfcf09-e549-48ad-ae2e-7076e8c232e0\" class=\"blockgrid\"><tbody><tr><td title=\"Index: [0, 0]&#10;Color: (44, 53, 57)\" style=\"width: 20px; height: 20px;background-color: rgb(44, 53, 57);\"></td><td title=\"Index: [0, 1]&#10;Color: (44, 53, 57)\" style=\"width: 20px; height: 20px;background-color: rgb(44, 53, 57);\"></td><td title=\"Index: [0, 2]&#10;Color: (44, 53, 57)\" style=\"width: 20px; height: 20px;background-color: rgb(44, 53, 57);\"></td><td title=\"Index: [0, 3]&#10;Color: (44, 53, 57)\" style=\"width: 20px; height: 20px;background-color: rgb(44, 53, 57);\"></td><td title=\"Index: [0, 4]&#10;Color: (44, 53, 57)\" style=\"width: 20px; height: 20px;background-color: rgb(44, 53, 57);\"></td><td title=\"Index: [0, 5]&#10;Color: (44, 53, 57)\" style=\"width: 20px; height: 20px;background-color: rgb(44, 53, 57);\"></td><td title=\"Index: [0, 6]&#10;Color: (44, 53, 57)\" style=\"width: 20px; height: 20px;background-color: rgb(44, 53, 57);\"></td></tr><tr><td title=\"Index: [1, 0]&#10;Color: (44, 53, 57)\" style=\"width: 20px; height: 20px;background-color: rgb(44, 53, 57);\"></td><td title=\"Index: [1, 1]&#10;Color: (0, 0, 255)\" style=\"width: 20px; height: 20px;background-color: rgb(0, 0, 255);\"></td><td title=\"Index: [1, 2]&#10;Color: (123, 234, 123)\" style=\"width: 20px; height: 20px;background-color: rgb(123, 234, 123);\"></td><td title=\"Index: [1, 3]&#10;Color: (128, 128, 128)\" style=\"width: 20px; height: 20px;background-color: rgb(128, 128, 128);\"></td><td title=\"Index: [1, 4]&#10;Color: (225, 225, 225)\" style=\"width: 20px; height: 20px;background-color: rgb(225, 225, 225);\"></td><td title=\"Index: [1, 5]&#10;Color: (0, 0, 0)\" style=\"width: 20px; height: 20px;background-color: rgb(0, 0, 0);\"></td><td title=\"Index: [1, 6]&#10;Color: (44, 53, 57)\" style=\"width: 20px; height: 20px;background-color: rgb(44, 53, 57);\"></td></tr><tr><td title=\"Index: [2, 0]&#10;Color: (44, 53, 57)\" style=\"width: 20px; height: 20px;background-color: rgb(44, 53, 57);\"></td><td title=\"Index: [2, 1]&#10;Color: (0, 0, 0)\" style=\"width: 20px; height: 20px;background-color: rgb(0, 0, 0);\"></td><td title=\"Index: [2, 2]&#10;Color: (128, 128, 128)\" style=\"width: 20px; height: 20px;background-color: rgb(128, 128, 128);\"></td><td title=\"Index: [2, 3]&#10;Color: (43, 27, 23)\" style=\"width: 20px; height: 20px;background-color: rgb(43, 27, 23);\"></td><td title=\"Index: [2, 4]&#10;Color: (128, 128, 128)\" style=\"width: 20px; height: 20px;background-color: rgb(128, 128, 128);\"></td><td title=\"Index: [2, 5]&#10;Color: (253, 208, 23)\" style=\"width: 20px; height: 20px;background-color: rgb(253, 208, 23);\"></td><td title=\"Index: [2, 6]&#10;Color: (44, 53, 57)\" style=\"width: 20px; height: 20px;background-color: rgb(44, 53, 57);\"></td></tr><tr><td title=\"Index: [3, 0]&#10;Color: (44, 53, 57)\" style=\"width: 20px; height: 20px;background-color: rgb(44, 53, 57);\"></td><td title=\"Index: [3, 1]&#10;Color: (225, 225, 225)\" style=\"width: 20px; height: 20px;background-color: rgb(225, 225, 225);\"></td><td title=\"Index: [3, 2]&#10;Color: (0, 0, 0)\" style=\"width: 20px; height: 20px;background-color: rgb(0, 0, 0);\"></td><td title=\"Index: [3, 3]&#10;Color: (128, 128, 128)\" style=\"width: 20px; height: 20px;background-color: rgb(128, 128, 128);\"></td><td title=\"Index: [3, 4]&#10;Color: (225, 225, 225)\" style=\"width: 20px; height: 20px;background-color: rgb(225, 225, 225);\"></td><td title=\"Index: [3, 5]&#10;Color: (123, 234, 123)\" style=\"width: 20px; height: 20px;background-color: rgb(123, 234, 123);\"></td><td title=\"Index: [3, 6]&#10;Color: (44, 53, 57)\" style=\"width: 20px; height: 20px;background-color: rgb(44, 53, 57);\"></td></tr><tr><td title=\"Index: [4, 0]&#10;Color: (44, 53, 57)\" style=\"width: 20px; height: 20px;background-color: rgb(44, 53, 57);\"></td><td title=\"Index: [4, 1]&#10;Color: (225, 225, 225)\" style=\"width: 20px; height: 20px;background-color: rgb(225, 225, 225);\"></td><td title=\"Index: [4, 2]&#10;Color: (225, 225, 225)\" style=\"width: 20px; height: 20px;background-color: rgb(225, 225, 225);\"></td><td title=\"Index: [4, 3]&#10;Color: (225, 225, 225)\" style=\"width: 20px; height: 20px;background-color: rgb(225, 225, 225);\"></td><td title=\"Index: [4, 4]&#10;Color: (0, 0, 0)\" style=\"width: 20px; height: 20px;background-color: rgb(0, 0, 0);\"></td><td title=\"Index: [4, 5]&#10;Color: (225, 225, 225)\" style=\"width: 20px; height: 20px;background-color: rgb(225, 225, 225);\"></td><td title=\"Index: [4, 6]&#10;Color: (44, 53, 57)\" style=\"width: 20px; height: 20px;background-color: rgb(44, 53, 57);\"></td></tr><tr><td title=\"Index: [5, 0]&#10;Color: (44, 53, 57)\" style=\"width: 20px; height: 20px;background-color: rgb(44, 53, 57);\"></td><td title=\"Index: [5, 1]&#10;Color: (0, 0, 0)\" style=\"width: 20px; height: 20px;background-color: rgb(0, 0, 0);\"></td><td title=\"Index: [5, 2]&#10;Color: (225, 225, 225)\" style=\"width: 20px; height: 20px;background-color: rgb(225, 225, 225);\"></td><td title=\"Index: [5, 3]&#10;Color: (0, 0, 0)\" style=\"width: 20px; height: 20px;background-color: rgb(0, 0, 0);\"></td><td title=\"Index: [5, 4]&#10;Color: (225, 225, 225)\" style=\"width: 20px; height: 20px;background-color: rgb(225, 225, 225);\"></td><td title=\"Index: [5, 5]&#10;Color: (123, 234, 123)\" style=\"width: 20px; height: 20px;background-color: rgb(123, 234, 123);\"></td><td title=\"Index: [5, 6]&#10;Color: (44, 53, 57)\" style=\"width: 20px; height: 20px;background-color: rgb(44, 53, 57);\"></td></tr><tr><td title=\"Index: [6, 0]&#10;Color: (44, 53, 57)\" style=\"width: 20px; height: 20px;background-color: rgb(44, 53, 57);\"></td><td title=\"Index: [6, 1]&#10;Color: (44, 53, 57)\" style=\"width: 20px; height: 20px;background-color: rgb(44, 53, 57);\"></td><td title=\"Index: [6, 2]&#10;Color: (44, 53, 57)\" style=\"width: 20px; height: 20px;background-color: rgb(44, 53, 57);\"></td><td title=\"Index: [6, 3]&#10;Color: (44, 53, 57)\" style=\"width: 20px; height: 20px;background-color: rgb(44, 53, 57);\"></td><td title=\"Index: [6, 4]&#10;Color: (44, 53, 57)\" style=\"width: 20px; height: 20px;background-color: rgb(44, 53, 57);\"></td><td title=\"Index: [6, 5]&#10;Color: (44, 53, 57)\" style=\"width: 20px; height: 20px;background-color: rgb(44, 53, 57);\"></td><td title=\"Index: [6, 6]&#10;Color: (44, 53, 57)\" style=\"width: 20px; height: 20px;background-color: rgb(44, 53, 57);\"></td></tr></tbody></table>"
      ],
      "text/plain": [
       "<IPython.core.display.HTML object>"
      ]
     },
     "metadata": {},
     "output_type": "display_data"
    },
    {
     "name": "stdout",
     "output_type": "stream",
     "text": [
      "[[<Bump>], [None], [<Bump>], [<Breeze>], [<Breeze>, None]]\n"
     ]
    }
   ],
   "source": [
    "step()"
   ]
  }
 ],
 "metadata": {
  "kernelspec": {
   "display_name": "Python 3",
   "language": "python",
   "name": "python3"
  },
  "language_info": {
   "codemirror_mode": {
    "name": "ipython",
    "version": 3
   },
   "file_extension": ".py",
   "mimetype": "text/x-python",
   "name": "python",
   "nbconvert_exporter": "python",
   "pygments_lexer": "ipython3",
   "version": "3.6.4"
  }
 },
 "nbformat": 4,
 "nbformat_minor": 2
}
